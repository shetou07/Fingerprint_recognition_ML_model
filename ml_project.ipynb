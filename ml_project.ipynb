{
 "cells": [
  {
   "cell_type": "code",
   "execution_count": 1,
   "id": "1d50c015",
   "metadata": {},
   "outputs": [],
   "source": [
    "sample=cv2.resize(sample,None,fx=2.5,fy=2.5)\n",
    "cv2.imshow(\"Sample\",sample)\n",
    "cv2.waitKey(0)\n",
    "cv2.destroyAllWindows()"
   ]
  },
  {
   "cell_type": "markdown",
   "id": "b28e8ee4",
   "metadata": {},
   "source": [
    "Machine learning techniques such as Artificial Neural Networks (ANN), Sup\u0002port Vector Machine (SVM) and Genetic Algorithms (GA) [5] play an important\n",
    "role for presenting non traditional solutions for fingerprint identification prob\u0002lems. The idea behind these techniques is to build a feature vector and train\n",
    "(learn) the machine how to process that vector according to some particular\n",
    "rules. This way, machine learning techniques can process efficiently the compli\u0002cated fingerprint data, and hence, contribute in solving some problems of the\n",
    "fingerprint identification system.\n",
    "The contribution of this paper is to introduce a precise survey about some\n",
    "machine learning techniques that have been used in fingerprint identification.\n",
    "The survey can be used as ground truth for developing new machine learning\n",
    "based algorithms for fingerprint identification system. The methodology of this\n",
    "research is to consider only the most promising techniques in machine learning\n",
    "and their deployment in some phases of the fingerprint identification system.\n",
    "The reminder part of this paper is organized as follows. Section 2 gives a\n",
    "preliminary information about the fingerprint identification system components\n",
    "staring from fingerprint acquisition phase and ending with fingerprint match\u0002ing phase. Moreover, fingerprint structure has been explained as a first part of\n",
    "that section. Section 3 reports the research progress of deploying three machine\n",
    "learning techniques, namely, ANN, SVM and GA over fingerprint identification\n",
    "system"
   ]
  }
 ],
 "metadata": {
  "kernelspec": {
   "display_name": "Python 3 (ipykernel)",
   "language": "python",
   "name": "python3"
  },
  "language_info": {
   "codemirror_mode": {
    "name": "ipython",
    "version": 3
   },
   "file_extension": ".py",
   "mimetype": "text/x-python",
   "name": "python",
   "nbconvert_exporter": "python",
   "pygments_lexer": "ipython3",
   "version": "3.10.9"
  }
 },
 "nbformat": 4,
 "nbformat_minor": 5
}
